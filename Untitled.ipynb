{
 "cells": [
  {
   "cell_type": "code",
   "execution_count": 1,
   "metadata": {},
   "outputs": [],
   "source": [
    "class Employee:\n",
    "    def __init__(self,empId,empName,empDepartment,empSalary):\n",
    "        self.empId = empId\n",
    "        self.empName = empName\n",
    "        self.empDepartment = empDepartment\n",
    "        self.empSalary = empSalary\n",
    "        \n",
    "    def __str__(self):\n",
    "        return(self.empId,self.empName,self.empDepartment,self.empSalary)\n",
    "    \n",
    "    def setEmpId(self, empId):\n",
    "        self.empId = empId\n",
    "    \n",
    "    def setEmpName(self, empName):\n",
    "        self.empName = empName\n",
    "    \n",
    "    def setEmpDepartment(self, empDepartment):\n",
    "        self.empDepartment = empDepartment\n",
    "    \n",
    "    def setEmpSalary(self, empSalary):\n",
    "        self.empSalary = empSalary\n",
    "    \n",
    "    def getEmpId(self):\n",
    "        return self.empId\n",
    "\n",
    "    def getEmpName(self):\n",
    "        return self.empName\n",
    "    \n",
    "    def getEmpDepartment(self):\n",
    "        return self.empDepartment\n",
    "    \n",
    "    def getEmpSalary(self):\n",
    "        return self.empSalary\n",
    "        "
   ]
  },
  {
   "cell_type": "code",
   "execution_count": 4,
   "metadata": {},
   "outputs": [
    {
     "name": "stdout",
     "output_type": "stream",
     "text": [
      "('111A', 'Sadia', 'CSE', 50000)\n",
      "('111A', 'Sadia', 'CSE', 90000)\n",
      "('111A', 'Sadia', 'EEE', 90000)\n",
      "111A\n",
      "90000\n"
     ]
    }
   ],
   "source": [
    "  \n",
    "    \n",
    "emp1 = Employee(\"111A\",\"Sadia\",\"CSE\",50000)\n",
    "\n",
    "\n",
    "print(emp1.__str__())\n",
    "\n",
    "\n",
    "\n",
    "emp1.setEmpSalary(90000)\n",
    "print(emp1.__str__())\n",
    "\n",
    "\n",
    "emp1.setEmpDepartment(\"EEE\")\n",
    "print(emp1.__str__())\n",
    "\n",
    "\n",
    "\n",
    "print(emp1.getEmpId())\n",
    "\n",
    "\n",
    "\n",
    "print(emp1.getEmpSalary())\n"
   ]
  },
  {
   "cell_type": "code",
   "execution_count": null,
   "metadata": {},
   "outputs": [],
   "source": []
  }
 ],
 "metadata": {
  "kernelspec": {
   "display_name": "Python 3",
   "language": "python",
   "name": "python3"
  },
  "language_info": {
   "codemirror_mode": {
    "name": "ipython",
    "version": 3
   },
   "file_extension": ".py",
   "mimetype": "text/x-python",
   "name": "python",
   "nbconvert_exporter": "python",
   "pygments_lexer": "ipython3",
   "version": "3.7.3"
  }
 },
 "nbformat": 4,
 "nbformat_minor": 2
}
